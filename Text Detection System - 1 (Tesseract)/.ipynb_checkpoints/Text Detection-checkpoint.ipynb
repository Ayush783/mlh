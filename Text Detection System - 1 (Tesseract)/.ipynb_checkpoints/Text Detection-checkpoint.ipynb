{
 "cells": [
  {
   "cell_type": "code",
   "execution_count": 3,
   "metadata": {},
   "outputs": [],
   "source": [
    "import cv2\n",
    "import pytesseract"
   ]
  },
  {
   "cell_type": "code",
   "execution_count": 4,
   "metadata": {},
   "outputs": [
    {
     "name": "stdout",
     "output_type": "stream",
     "text": [
      "['TODAY isa', 'good day!', '', 'MY TEAM is', 'The best Tean!']\n",
      "Name of medicine 1 - TODAY isa \n",
      "Name of medicine 2 - good day! \n",
      "Name of medicine 3 - MY TEAM is \n",
      "Name of medicine 4 - The best Tean! \n"
     ]
    },
    {
     "data": {
      "text/plain": [
       "-1"
      ]
     },
     "execution_count": 4,
     "metadata": {},
     "output_type": "execute_result"
    }
   ],
   "source": [
    "pytesseract.pytesseract.tesseract_cmd = \"C:\\\\Program Files\\\\Tesseract-OCR\\\\tesseract.exe\"\n",
    "img = cv2.imread(\"2.png\")\n",
    "img = cv2.cvtColor(img,cv2.COLOR_BGR2RGB) # pytesseract only accepts RGB images and our image is in BGR format\n",
    "# cv2.imshow(\"Original\",img)\n",
    "# cv2.waitKey(0)\n",
    "l=[]\n",
    "str1 =\"\"\n",
    "c=1\n",
    "no = 1\n",
    "str1 = str1 + str(pytesseract.image_to_string(img))\n",
    "l = str1.split('\\n')\n",
    "print(l)\n",
    "for i in l:\n",
    "    if c!=0:\n",
    "        print(\"Name of medicine {} - \".format(no),end=\"\")\n",
    "    i = list(i.split(' '))\n",
    "    c=1\n",
    "    for j in i:\n",
    "        if j =='':\n",
    "            c = 0\n",
    "        else: \n",
    "            c=1\n",
    "            print(j,end=\" \")   \n",
    "    if c!=0:\n",
    "        print()\n",
    "        no+=1 \n",
    "cv2.imshow(\"Original\",img)\n",
    "cv2.waitKey(0)"
   ]
  },
  {
   "cell_type": "code",
   "execution_count": null,
   "metadata": {},
   "outputs": [],
   "source": []
  }
 ],
 "metadata": {
  "kernelspec": {
   "display_name": "Python 3",
   "language": "python",
   "name": "python3"
  },
  "language_info": {
   "codemirror_mode": {
    "name": "ipython",
    "version": 3
   },
   "file_extension": ".py",
   "mimetype": "text/x-python",
   "name": "python",
   "nbconvert_exporter": "python",
   "pygments_lexer": "ipython3",
   "version": "3.7.6"
  }
 },
 "nbformat": 4,
 "nbformat_minor": 4
}
